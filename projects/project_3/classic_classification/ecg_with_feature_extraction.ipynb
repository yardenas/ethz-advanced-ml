{
 "cells": [
  {
   "cell_type": "markdown",
   "metadata": {},
   "source": [
    "## ECG Classification Using Feature Extraction and Classical Machine Learning Approach"
   ]
  },
  {
   "cell_type": "markdown",
   "metadata": {},
   "source": [
    "### Imports"
   ]
  },
  {
   "cell_type": "code",
   "execution_count": 2,
   "metadata": {},
   "outputs": [
    {
     "ename": "ModuleNotFoundError",
     "evalue": "No module named 'ecg_features_master.features'",
     "output_type": "error",
     "traceback": [
      "\u001b[0;31m---------------------------------------------------------------------------\u001b[0m",
      "\u001b[0;31mModuleNotFoundError\u001b[0m                       Traceback (most recent call last)",
      "\u001b[0;32m<ipython-input-2-d79ace1dbae2>\u001b[0m in \u001b[0;36m<module>\u001b[0;34m\u001b[0m\n\u001b[1;32m     10\u001b[0m                     \u001b[0mprojects\u001b[0m\u001b[0;34m/\u001b[0m\u001b[0mproject_3\u001b[0m\u001b[0;34m/\u001b[0m\u001b[0mclassic_classification\u001b[0m\u001b[0;34m/\u001b[0m\u001b[0;31m\\\u001b[0m\u001b[0;34m\u001b[0m\u001b[0;34m\u001b[0m\u001b[0m\n\u001b[1;32m     11\u001b[0m                     ecg_features_master')\n\u001b[0;32m---> 12\u001b[0;31m \u001b[0;32mfrom\u001b[0m \u001b[0mecg_features_master\u001b[0m\u001b[0;34m.\u001b[0m\u001b[0mfeatures\u001b[0m\u001b[0;34m.\u001b[0m\u001b[0mfeatures_submit\u001b[0m \u001b[0;32mimport\u001b[0m \u001b[0;34m*\u001b[0m\u001b[0;34m\u001b[0m\u001b[0;34m\u001b[0m\u001b[0m\n\u001b[0m",
      "\u001b[0;31mModuleNotFoundError\u001b[0m: No module named 'ecg_features_master.features'"
     ]
    }
   ],
   "source": [
    "import os\n",
    "import sys\n",
    "import numpy as np\n",
    "import pandas as pd\n",
    "import matplotlib.pylab as plt\n",
    "\n",
    "# Import local Libraries\n",
    "sys.path.insert(0, '/home/yardenas/ethz/courses_resources/\\\n",
    "                    advanced_machine_learning/ethz-advanced-ml/\\\n",
    "                    projects/project_3/classic_classification/\\\n",
    "                    ecg_features_master')\n",
    "from ecg_features_master.features.features_submit import *"
   ]
  },
  {
   "cell_type": "markdown",
   "metadata": {},
   "source": [
    "### Import the Data Set"
   ]
  },
  {
   "cell_type": "code",
   "execution_count": null,
   "metadata": {},
   "outputs": [],
   "source": [
    "from collections import Counter\n",
    "path_to_data = os.path.abspath(os.path.join(os.getcwd(), os.pardir))\n",
    "X = pd.read_csv(path_to_data + '/X_train.csv').drop('id', axis=1).to_numpy()\n",
    "y = pd.read_csv(path_to_data + '/y_train.csv').drop('id', axis=1).to_numpy()\n",
    "X_end_test = pd.read_csv(path_to_data + '/X_test.csv').drop('id', axis=1).to_numpy()"
   ]
  },
  {
   "cell_type": "markdown",
   "metadata": {},
   "source": [
    "### A Quick Look on the Data"
   ]
  },
  {
   "cell_type": "code",
   "execution_count": null,
   "metadata": {},
   "outputs": [],
   "source": [
    "from ecg_features_master.utils.plotting.waveforms import plot_waveform\n",
    "fs = 300 # [Hz]\n",
    "print('Class distribution: ', Counter(y.ravel()))\n",
    "print('Data Dimensions: ', X.shape)\n",
    "labels = {\n",
    "    'N': 0,\n",
    "    'A': 1,\n",
    "    'O': 2,\n",
    "    '~': 3\n",
    "}\n",
    "for (heart, label_id) in zip(ax, labels.items()):\n",
    "    samples = X[np.argwhere(y == label_id)[0, 0], :]\n",
    "    samples = samples[np.isfinite(samples)]\n",
    "    plot_waveform(samples, fs)"
   ]
  },
  {
   "cell_type": "markdown",
   "metadata": {},
   "source": [
    "### Extract Features"
   ]
  },
  {
   "cell_type": "code",
   "execution_count": null,
   "metadata": {},
   "outputs": [],
   "source": [
    "ecg_features = FeaturesSubmit(\n",
    "                    fs=fs,\n",
    "                    feature_groups=[\n",
    "                        'full_waveform_statistics',\n",
    "                        'heart_rate_variability_statistics',\n",
    "                        'template_statistics'\n",
    "                    ]\n",
    ")\n",
    "n_features = 315\n",
    "training = np.empty((X.shape[0], n_features))\n",
    "for idx, data_point in enumerate(X):\n",
    "    data_point = data_point[np.isfinite(data_point)]\n",
    "    ecg_features.calculate_features(\n",
    "            data_point, 1, \n",
    "            filter_bandwidth=[3, 45], show=False,\n",
    "            normalize=True, polarity_check=True,\n",
    "            template_before=0.25, template_after=0.4\n",
    "    )\n",
    "    training[idx] = ecg_features.get_features().values\n"
   ]
  }
 ],
 "metadata": {
  "kernelspec": {
   "display_name": "Python 3",
   "language": "python",
   "name": "python3"
  },
  "language_info": {
   "codemirror_mode": {
    "name": "ipython",
    "version": 3
   },
   "file_extension": ".py",
   "mimetype": "text/x-python",
   "name": "python",
   "nbconvert_exporter": "python",
   "pygments_lexer": "ipython3",
   "version": "3.7.3"
  }
 },
 "nbformat": 4,
 "nbformat_minor": 2
}
