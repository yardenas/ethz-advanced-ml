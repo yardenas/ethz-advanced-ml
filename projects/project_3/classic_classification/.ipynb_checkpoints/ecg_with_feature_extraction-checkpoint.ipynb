{
 "cells": [
  {
   "cell_type": "markdown",
   "metadata": {},
   "source": [
    "## ECG Classification Using Feature Extraction and Classical Machine Learning Approach"
   ]
  },
  {
   "cell_type": "markdown",
   "metadata": {},
   "source": [
    "### Imports"
   ]
  },
  {
   "cell_type": "code",
   "execution_count": 2,
   "metadata": {},
   "outputs": [],
   "source": [
    "import os\n",
    "import sys\n",
    "import numpy as np\n",
    "import pandas as pd\n",
    "import matplotlib.pylab as plt\n",
    "\n",
    "# Import local Libraries\n",
    "sys.path.insert(0, '/home/yardenas/ethz/courses_resources/\\\n",
    "                    advanced_machine_learning/ethz-advanced-ml/\\\n",
    "                    projects/project_3/classic_classification/\\\n",
    "                    ecg_features_master')\n",
    "from ecg_features_master.features.features_submit import *"
   ]
  },
  {
   "cell_type": "markdown",
   "metadata": {},
   "source": [
    "### Import the Data Set"
   ]
  },
  {
   "cell_type": "code",
   "execution_count": 3,
   "metadata": {},
   "outputs": [],
   "source": [
    "path_to_data = os.path.abspath(os.path.join(os.getcwd(), os.pardir))\n",
    "X = pd.read_csv(path_to_data + '/X_train.csv', nrows = 88).drop('id', axis=1).to_numpy()\n",
    "y = pd.read_csv(path_to_data + '/y_train.csv', nrows = 88).drop('id', axis=1).to_numpy()\n",
    "X_end_test = pd.read_csv(path_to_data + '/X_test.csv').drop('id', axis=1).to_numpy()"
   ]
  },
  {
   "cell_type": "markdown",
   "metadata": {},
   "source": [
    "### A Quick Look on the Data"
   ]
  },
  {
   "cell_type": "code",
   "execution_count": 4,
   "metadata": {},
   "outputs": [],
   "source": [
    "from ecg_features_master.utils.plotting.waveforms import plot_waveform\n",
    "from collections import Counter\n",
    "fs = 300 # [Hz]\n",
    "# print('Class distribution: ', Counter(y.ravel()))\n",
    "# print('Data Dimensions: ', X.shape)\n",
    "# labels = {\n",
    "#     'N': 0,\n",
    "#     'A': 1,\n",
    "#     'O': 2,\n",
    "#     '~': 3\n",
    "# }\n",
    "# for (heart, label_id) in labels.items():\n",
    "#     samples = X[np.argwhere(y == label_id)[0, 0], :]\n",
    "#     samples = samples[np.isfinite(samples)]\n",
    "#     plot_waveform(samples, fs)"
   ]
  },
  {
   "cell_type": "markdown",
   "metadata": {},
   "source": [
    "### Extract Features"
   ]
  },
  {
   "cell_type": "code",
   "execution_count": 14,
   "metadata": {},
   "outputs": [
    {
     "name": "stdout",
     "output_type": "stream",
     "text": [
      "0 idxxxxxxxxxxxxx\n",
      "[0]\n"
     ]
    },
    {
     "name": "stderr",
     "output_type": "stream",
     "text": [
      "/home/yardenas/anaconda3/lib/python3.7/site-packages/scipy/signal/spectral.py:1969: UserWarning: nperseg = 256 is greater than input length  = 195, using nperseg = 195\n",
      "  .format(nperseg, input_length))\n"
     ]
    },
    {
     "ename": "ValueError",
     "evalue": "could not broadcast input array from shape (315) into shape (175)",
     "output_type": "error",
     "traceback": [
      "\u001b[0;31m---------------------------------------------------------------------------\u001b[0m",
      "\u001b[0;31mValueError\u001b[0m                                Traceback (most recent call last)",
      "\u001b[0;32m<ipython-input-14-23ead7863f74>\u001b[0m in \u001b[0;36m<module>\u001b[0;34m\u001b[0m\n\u001b[1;32m     19\u001b[0m     \u001b[0mprint\u001b[0m\u001b[0;34m(\u001b[0m\u001b[0midx\u001b[0m\u001b[0;34m,\u001b[0m \u001b[0;34m\"idxxxxxxxxxxxxx\"\u001b[0m\u001b[0;34m)\u001b[0m\u001b[0;34m\u001b[0m\u001b[0;34m\u001b[0m\u001b[0m\n\u001b[1;32m     20\u001b[0m     \u001b[0mprint\u001b[0m\u001b[0;34m(\u001b[0m\u001b[0my\u001b[0m\u001b[0;34m[\u001b[0m\u001b[0midx\u001b[0m\u001b[0;34m]\u001b[0m\u001b[0;34m)\u001b[0m\u001b[0;34m\u001b[0m\u001b[0;34m\u001b[0m\u001b[0m\n\u001b[0;32m---> 21\u001b[0;31m     \u001b[0mtraining\u001b[0m\u001b[0;34m[\u001b[0m\u001b[0midx\u001b[0m\u001b[0;34m]\u001b[0m \u001b[0;34m=\u001b[0m \u001b[0mecg_features\u001b[0m\u001b[0;34m.\u001b[0m\u001b[0mget_features\u001b[0m\u001b[0;34m(\u001b[0m\u001b[0;34m)\u001b[0m\u001b[0;34m.\u001b[0m\u001b[0mvalues\u001b[0m\u001b[0;34m\u001b[0m\u001b[0;34m\u001b[0m\u001b[0m\n\u001b[0m",
      "\u001b[0;31mValueError\u001b[0m: could not broadcast input array from shape (315) into shape (175)"
     ]
    }
   ],
   "source": [
    "ecg_features = FeaturesSubmit(\n",
    "                    fs=fs,\n",
    "                    feature_groups=[\n",
    "                        'full_waveform_statistics',\n",
    "                        'heart_rate_variability_statistics',\n",
    "                        'template_statistics'\n",
    "                    ]\n",
    ")\n",
    "n_features = 315\n",
    "training = np.empty((X.shape[0], n_features))\n",
    "for idx, data_point in enumerate(X):\n",
    "    data_point = data_point[np.isfinite(data_point)]\n",
    "    ecg_features.calculate_features(\n",
    "            data_point, 1, \n",
    "            filter_bandwidth=[3, 45], show=False,\n",
    "            normalize=True, polarity_check=True,\n",
    "            template_before=0.25, template_after=0.4\n",
    "    )\n",
    "    print(idx, \"idxxxxxxxxxxxxx\")\n",
    "    print(y[idx])\n",
    "    training[idx] = ecg_features.get_features().values\n"
   ]
  },
  {
   "cell_type": "code",
   "execution_count": 13,
   "metadata": {},
   "outputs": [
    {
     "name": "stdout",
     "output_type": "stream",
     "text": [
      "15203\n",
      "15400\n"
     ]
    }
   ],
   "source": [
    "print(np.count_nonzero(~np.isnan(training)))\n",
    "print(np.size(training))"
   ]
  }
 ],
 "metadata": {
  "kernelspec": {
   "display_name": "Python 3",
   "language": "python",
   "name": "python3"
  },
  "language_info": {
   "codemirror_mode": {
    "name": "ipython",
    "version": 3
   },
   "file_extension": ".py",
   "mimetype": "text/x-python",
   "name": "python",
   "nbconvert_exporter": "python",
   "pygments_lexer": "ipython3",
   "version": "3.7.3"
  }
 },
 "nbformat": 4,
 "nbformat_minor": 2
}
