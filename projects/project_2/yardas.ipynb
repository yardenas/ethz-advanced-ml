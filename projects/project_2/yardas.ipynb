{
 "cells": [
  {
   "cell_type": "markdown",
   "metadata": {},
   "source": [
    "# Data Classification from Image Features"
   ]
  },
  {
   "cell_type": "code",
   "execution_count": 1,
   "metadata": {},
   "outputs": [],
   "source": [
    "import numpy as np\n",
    "import pandas as pd\n",
    "from matplotlib import pyplot as plt"
   ]
  },
  {
   "cell_type": "code",
   "execution_count": 14,
   "metadata": {},
   "outputs": [
    {
     "name": "stdout",
     "output_type": "stream",
     "text": [
      "[[-1.09914374e+00  9.18165326e-01 -1.22739446e+00 ...  3.49724579e+00\n",
      "  -1.27542198e+00  2.44070840e+00]\n",
      " [ 3.66476595e-01  9.33802187e-01  6.12344030e-02 ... -1.50495410e-01\n",
      "   1.56421304e-01  7.14251935e-01]\n",
      " [-4.25878823e-01 -8.02152276e-01  2.71817100e-03 ...  7.66521692e-01\n",
      "   3.39105397e-01 -4.63639050e-02]\n",
      " ...\n",
      " [-3.06731430e-02  3.21549177e-01 -9.26858783e-01 ...  1.96702921e+00\n",
      "  -6.18075728e-01  1.75024950e+00]\n",
      " [ 3.56795380e-02  1.48401722e-01  8.57769012e-01 ...  2.94511139e-01\n",
      "  -3.28029156e-01 -1.13899067e-01]\n",
      " [-2.34110653e-01 -4.33427542e-01 -6.85740930e-02 ...  8.93944383e-01\n",
      "  -1.82160199e-01  4.60182697e-01]] \n",
      " [[1]\n",
      " [0]\n",
      " [1]\n",
      " ...\n",
      " [1]\n",
      " [0]\n",
      " [0]]\n"
     ]
    }
   ],
   "source": [
    "X = pd.read_csv(\"X_train.csv\").drop('id', axis=1).to_numpy()\n",
    "y = pd.read_csv(\"y_train.csv\").drop('id', axis=1).to_numpy()\n",
    "X_end_test = pd.read_csv(\"X_test.csv\").drop('id', axis=1)\n",
    "print(X, '\\n', y)"
   ]
  },
  {
   "cell_type": "markdown",
   "metadata": {},
   "source": [
    "## Pre-processing of the Data"
   ]
  },
  {
   "cell_type": "markdown",
   "metadata": {},
   "source": [
    "### Assert if Data is Invalid"
   ]
  },
  {
   "cell_type": "code",
   "execution_count": 5,
   "metadata": {},
   "outputs": [],
   "source": [
    "assert np.all(np.isfinite(X)) and np.all(np.isfinite(y))"
   ]
  },
  {
   "cell_type": "markdown",
   "metadata": {},
   "source": [
    "### Normalization"
   ]
  },
  {
   "cell_type": "code",
   "execution_count": 3,
   "metadata": {},
   "outputs": [],
   "source": [
    "from sklearn.preprocessing import StandardScaler\n",
    "scaler = StandardScaler()\n",
    "scaler.fit(X)\n",
    "X_norm = scaler.transform(X)"
   ]
  },
  {
   "cell_type": "markdown",
   "metadata": {},
   "source": [
    "### Looking for Non-Informative Features\n",
    "TODO: Think about _n\\_components_ and _percentile_ parameters values."
   ]
  },
  {
   "cell_type": "code",
   "execution_count": 4,
   "metadata": {},
   "outputs": [
    {
     "name": "stdout",
     "output_type": "stream",
     "text": [
      "408 Features Removed\n"
     ]
    },
    {
     "data": {
      "image/png": "[encoded data removed]",
      "text/plain": [
       "<Figure size 432x288 with 1 Axes>"
      ]
     },
     "metadata": {
      "needs_background": "light"
     },
     "output_type": "display_data"
    }
   ],
   "source": [
    "from sklearn.decomposition import PCA\n",
    "pca = PCA(n_components = 0.95)\n",
    "X_pca = pca.fit_transform(X_norm)\n",
    "plt.plot(np.cumsum(pca.explained_variance_ratio_))\n",
    "print(\"%d Features Removed\" % (X.shape[1] - X_pca.shape[1]))"
   ]
  },
  {
   "cell_type": "code",
   "execution_count": 5,
   "metadata": {},
   "outputs": [
    {
     "name": "stdout",
     "output_type": "stream",
     "text": [
      "296 Features Removed \n",
      "There are 296 features left\n"
     ]
    }
   ],
   "source": [
    "from sklearn.feature_selection import \\\n",
    "mutual_info_classif, SelectPercentile\n",
    "X_mutual_info = SelectPercentile(mutual_info_classif, percentile=50) \\\n",
    "                    .fit_transform(X_pca, y.ravel())\n",
    "print(\"%d Features Removed\" % (X_pca.shape[1] - X_mutual_info.shape[1]),\n",
    "     \"\\nThere are %d features left\" % X_mutual_info.shape[1])"
   ]
  },
  {
   "cell_type": "markdown",
   "metadata": {},
   "source": [
    "## Dealing with Class Imbalance\n",
    "_Note: This actually depends on the classification procedure; with 'One vs. All' there will be always a class \n",
    "imbalance._ \n",
    "\n",
    "TODO: Think about the best numbers for oversampling and maybe use bias"
   ]
  },
  {
   "cell_type": "code",
   "execution_count": 18,
   "metadata": {},
   "outputs": [
    {
     "name": "stdout",
     "output_type": "stream",
     "text": [
      "Original dataset shape Counter({1: 3600, 0: 600, 2: 600}):\n",
      "Oversampled dataset shape Counter({1: 3600, 0: 3600, 2: 3600}):\n"
     ]
    }
   ],
   "source": [
    "from imblearn.over_sampling import SMOTE\n",
    "from collections import Counter\n",
    "print(\"Original dataset shape %s:\" % Counter(y.ravel()))\n",
    "X_oversampled, y_oversampled = SMOTE(sampling_strategy={\n",
    "                                          0: 3600,\n",
    "                                          1: 3600,\n",
    "                                          2: 3600}).\\\n",
    "                            fit_sample(X_mutual_info, y.ravel())\n",
    "print(\"Oversampled dataset shape %s:\" % Counter(y_oversampled))"
   ]
  },
  {
   "cell_type": "markdown",
   "metadata": {},
   "source": [
    "## Fiddling Around with Some Classification Algorithms"
   ]
  },
  {
   "cell_type": "code",
   "execution_count": 14,
   "metadata": {},
   "outputs": [
    {
     "ename": "NameError",
     "evalue": "name 'X_oversampled' is not defined",
     "output_type": "error",
     "traceback": [
      "\u001b[0;31m---------------------------------------------------------------------------\u001b[0m",
      "\u001b[0;31mNameError\u001b[0m                                 Traceback (most recent call last)",
      "\u001b[0;32m<ipython-input-14-19029a4d5c45>\u001b[0m in \u001b[0;36m<module>\u001b[0;34m\u001b[0m\n\u001b[1;32m      5\u001b[0m \u001b[0;34m\u001b[0m\u001b[0m\n\u001b[1;32m      6\u001b[0m X_train, X_test, y_train, y_test = train_test_split(\n\u001b[0;32m----> 7\u001b[0;31m                 X_oversampled, y_oversampled, test_size=0.33)\n\u001b[0m\u001b[1;32m      8\u001b[0m \u001b[0mprint\u001b[0m\u001b[0;34m(\u001b[0m\u001b[0;34m\"Training dataset shape %s:\"\u001b[0m \u001b[0;34m%\u001b[0m \u001b[0mCounter\u001b[0m\u001b[0;34m(\u001b[0m\u001b[0my_train\u001b[0m\u001b[0;34m.\u001b[0m\u001b[0mravel\u001b[0m\u001b[0;34m(\u001b[0m\u001b[0;34m)\u001b[0m\u001b[0;34m)\u001b[0m\u001b[0;34m)\u001b[0m\u001b[0;34m\u001b[0m\u001b[0;34m\u001b[0m\u001b[0m\n\u001b[1;32m      9\u001b[0m classifiers = {\n",
      "\u001b[0;31mNameError\u001b[0m: name 'X_oversampled' is not defined"
     ]
    }
   ],
   "source": [
    "from sklearn.neural_network import MLPClassifier\n",
    "from sklearn.ensemble import RandomForestClassifier\n",
    "from sklearn.model_selection import train_test_split\n",
    "from sklearn.metrics import balanced_accuracy_score\n",
    "\n",
    "X_train, X_test, y_train, y_test = train_test_split(\n",
    "                X_oversampled, y_oversampled, test_size=0.33)\n",
    "print(\"Training dataset shape %s:\" % Counter(y_train.ravel()))\n",
    "classifiers = {\n",
    "    'Random Forests': RandomForestClassifier(max_depth=5,\n",
    "                                              n_estimators=10,\n",
    "                                              max_features=1),\n",
    "    'NN': MLPClassifier(hidden_layer_sizes=(33, 33, 33),\n",
    "                         alpha=1, max_iter=1000)\n",
    "}\n",
    "for name, classifier in classifiers.items():\n",
    "    classifier.fit(X_train, y_train)\n",
    "    prediction = classifier.predict(X_test)\n",
    "    print(\"Score of %s is %0.4f\" % (name,\n",
    "          balanced_accuracy_score(y_true=y_test, y_pred=prediction, adjusted=True)))"
   ]
  },
  {
   "cell_type": "markdown",
   "metadata": {},
   "source": [
    "\n",
    "## Creating a Pipeline and Cross Validation Procedure for the Actual Learning\n",
    "Some remarks:\n",
    "1. _best\\_classifier.fit(...)_ function is time consuming (!), use with caution."
   ]
  },
  {
   "cell_type": "code",
   "execution_count": 43,
   "metadata": {
    "scrolled": true
   },
   "outputs": [
    {
     "name": "stderr",
     "output_type": "stream",
     "text": [
      "[Parallel(n_jobs=-1)]: Using backend LokyBackend with 4 concurrent workers.\n"
     ]
    },
    {
     "name": "stdout",
     "output_type": "stream",
     "text": [
      "Cross-validation score is 0.6948\n"
     ]
    },
    {
     "name": "stderr",
     "output_type": "stream",
     "text": [
      "[Parallel(n_jobs=-1)]: Done   5 out of   5 | elapsed:  4.3min finished\n"
     ]
    }
   ],
   "source": [
    "from imblearn.pipeline import make_pipeline\n",
    "from sklearn.feature_selection import f_classif, SelectPercentile\n",
    "from imblearn.over_sampling import SMOTE\n",
    "from sklearn.multiclass import OneVsRestClassifier\n",
    "from sklearn.model_selection import (GridSearchCV,\n",
    "    cross_val_score, StratifiedKFold)\n",
    "from sklearn.svm import SVC\n",
    "from sklearn.metrics import balanced_accuracy_score\n",
    "\n",
    "pipeline = make_pipeline(StandardScaler(),\n",
    "                         PCA(),\n",
    "                         SelectPercentile(f_classif),\n",
    "                         SVC(decision_function_shape='ovr', class_weight='balanced',\n",
    "                            gamma='scale',\n",
    "                            kernel='rbf'))\n",
    "parameter_space = {\n",
    "    'svc__C': [10, 1, 0.1],\n",
    "    'svc__degree': [3],\n",
    "    'selectpercentile__percentile':[20, 50],\n",
    "    'pca__n_components':[0.80]\n",
    "}\n",
    "inner_cv = StratifiedKFold(n_splits=5, shuffle=True)\n",
    "outer_cv = StratifiedKFold(n_splits=5, shuffle=True)\n",
    "best_classifier = GridSearchCV(pipeline, parameter_space,\n",
    "                               n_jobs=1, scoring='balanced_accuracy',\n",
    "                               verbose=True, iid=False,\n",
    "                               cv=inner_cv)\n",
    "scores = cross_val_score(best_classifier, X, y.ravel(),\n",
    "                            cv=outer_cv,\n",
    "                            scoring='balanced_accuracy',\n",
    "                            n_jobs=-1,\n",
    "                            verbose=True)\n",
    "\n",
    "print(\"Cross-validation score is %0.4f\" % scores.mean())"
   ]
  },
  {
   "cell_type": "markdown",
   "metadata": {},
   "source": [
    "## Save the Results"
   ]
  },
  {
   "cell_type": "code",
   "execution_count": 44,
   "metadata": {},
   "outputs": [
    {
     "name": "stdout",
     "output_type": "stream",
     "text": [
      "Fitting 5 folds for each of 6 candidates, totalling 30 fits\n"
     ]
    },
    {
     "name": "stderr",
     "output_type": "stream",
     "text": [
      "[Parallel(n_jobs=1)]: Using backend SequentialBackend with 1 concurrent workers.\n",
      "[Parallel(n_jobs=1)]: Done  30 out of  30 | elapsed:  1.5min finished\n"
     ]
    },
    {
     "name": "stdout",
     "output_type": "stream",
     "text": [
      "Best estimators parameters:\n",
      "    mean_fit_time  std_fit_time  mean_score_time  std_score_time  \\\n",
      "0       2.045359      0.036146         0.181424        0.002267   \n",
      "1       2.105671      0.006495         0.197390        0.001502   \n",
      "2       2.258622      0.026824         0.216364        0.001850   \n",
      "3       2.890190      0.018662         0.362867        0.002799   \n",
      "4       3.200663      0.008333         0.399780        0.003180   \n",
      "5       3.538492      0.014324         0.437000        0.001854   \n",
      "\n",
      "  param_pca__n_components param_selectpercentile__percentile param_svc__C  \\\n",
      "0                     0.8                                 20           10   \n",
      "1                     0.8                                 20            1   \n",
      "2                     0.8                                 20          0.1   \n",
      "3                     0.8                                 50           10   \n",
      "4                     0.8                                 50            1   \n",
      "5                     0.8                                 50          0.1   \n",
      "\n",
      "  param_svc__degree                                             params  \\\n",
      "0                 3  {'pca__n_components': 0.8, 'selectpercentile__...   \n",
      "1                 3  {'pca__n_components': 0.8, 'selectpercentile__...   \n",
      "2                 3  {'pca__n_components': 0.8, 'selectpercentile__...   \n",
      "3                 3  {'pca__n_components': 0.8, 'selectpercentile__...   \n",
      "4                 3  {'pca__n_components': 0.8, 'selectpercentile__...   \n",
      "5                 3  {'pca__n_components': 0.8, 'selectpercentile__...   \n",
      "\n",
      "   split0_test_score  split1_test_score  split2_test_score  split3_test_score  \\\n",
      "0           0.678704           0.678241           0.695370           0.691667   \n",
      "1           0.697222           0.708333           0.718981           0.675463   \n",
      "2           0.670833           0.672222           0.712037           0.657407   \n",
      "3           0.662500           0.681481           0.693056           0.668519   \n",
      "4           0.710185           0.706944           0.716204           0.713426   \n",
      "5           0.684259           0.685648           0.700463           0.662500   \n",
      "\n",
      "   split4_test_score  mean_test_score  std_test_score  rank_test_score  \n",
      "0           0.626852         0.674167        0.024624                4  \n",
      "1           0.660648         0.692130        0.021347                2  \n",
      "2           0.656019         0.673704        0.020289                5  \n",
      "3           0.630556         0.667222        0.021162                6  \n",
      "4           0.685185         0.706389        0.011047                1  \n",
      "5           0.656944         0.677963        0.016036                3  \n"
     ]
    }
   ],
   "source": [
    "best_classifier.fit(X, y.ravel())\n",
    "print(\"Best estimators parameters:\\n\",\n",
    "      pd.DataFrame(best_classifier.cv_results_))\n",
    "y_pred = best_classifier.predict(X_end_test)\n",
    "id = [float(i) for i in range(0, len(y_pred))]\n",
    "df = pd.DataFrame({'id': id, 'y': y_pred})\n",
    "df.to_csv('solution.csv', index=False)"
   ]
  }
 ],
 "metadata": {
  "kernelspec": {
   "display_name": "Python 3",
   "language": "python",
   "name": "python3"
  },
  "language_info": {
   "codemirror_mode": {
    "name": "ipython",
    "version": 3
   },
   "file_extension": ".py",
   "mimetype": "text/x-python",
   "name": "python",
   "nbconvert_exporter": "python",
   "pygments_lexer": "ipython3",
   "version": "3.7.3"
  }
 },
 "nbformat": 4,
 "nbformat_minor": 2
}
